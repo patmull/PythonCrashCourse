{
 "cells": [
  {
   "cell_type": "code",
   "execution_count": null,
   "id": "01a54e21-daf7-4bbe-b6d7-aeed31b20cc1",
   "metadata": {},
   "outputs": [],
   "source": [
    "import csv\n",
    "\n",
    "filename = 'data/sitka_weather_07-2018_simple.csv'\n",
    "\n",
    "# Getting the header rows\n",
    "with open(filename) as f:\n",
    "    reader = csv.reader(f)\n",
    "    header_row = next(reader)\n",
    "    print(header_row)\n",
    "\n",
    "    for index, column_header in enumerate(header_row):\n",
    "        print(index, column_header)\n",
    "\n",
    "    # High temperatures\n",
    "    highs = []\n",
    "    for row in reader:\n",
    "        high = int(row[5]) # the max temperatore column (see above the index 5)\n",
    "        highs.append(high)\n",
    "\n",
    "print(highs)\n"
   ]
  },
  {
   "cell_type": "code",
   "execution_count": null,
   "id": "b1ed5069-dc3e-45f6-af7f-64df497b44ea",
   "metadata": {},
   "outputs": [],
   "source": [
    "# plotting the temperature chart\n",
    "import matplotlib.pyplot as plt\n",
    "\n",
    "# TODO: Convert to Celsius\n",
    "\n",
    "# the high temperqatures\n",
    "plt.style.use('seaborn')\n",
    "fig, axis = plt.subplots()\n",
    "axis.plot(highs, c='red') # seaborn automatically plots the values to an y-axis and creates the numbering (the \"days\") to the x axis \n",
    "\n",
    "# Plot formatting\n",
    "plt.title(\"Daily high temp, July 2018\", fontsize=24)\n",
    "plt.xlabel('Days', fontsize=16)\n",
    "plt.ylabel(\"Temperature [F]:\", fontsize=16)\n",
    "plt.tick_params(axis='both', which='major', labelsize=16)\n",
    "\n",
    "plt.show()"
   ]
  },
  {
   "cell_type": "code",
   "execution_count": null,
   "id": "c8d59201-746a-44ff-8b37-9f8daa1caa48",
   "metadata": {},
   "outputs": [],
   "source": [
    "# PROBLEM: We can't see the exact days aboe. \n",
    "# SOLUTION: We can generate the dates based on the starting date\n",
    "# E.g.\n",
    "from datetime import datetime\n",
    "\n",
    "first_date = datetime.strptime('2018-07-01', '%Y-%m-%d')\n",
    "first_date"
   ]
  },
  {
   "cell_type": "code",
   "execution_count": null,
   "id": "8c04aef0-3e48-41dc-b939-c109cc40a6a0",
   "metadata": {},
   "outputs": [],
   "source": [
    "with open(filename) as f:\n",
    "    reader = csv.reader(f)\n",
    "    header_row = next(reader)\n",
    "    print(header_row)\n",
    "\n",
    "    dates, highs, lows = [], [], [] # we will also add lows this time\n",
    "\n",
    "    for line in reader:\n",
    "    \n",
    "        current_date = datetime.strptime(line[2], '%Y-%m-%d') # The second 'column' (value from the list) on the actual read line\n",
    "        dates.append(current_date)\n",
    "\n",
    "        high = int(row[5])\n",
    "        highs.append(high)\n",
    "\n",
    "        low = int(row[6])\n",
    "        lows.append(low)\n",
    "\n",
    "    # High temperatures\n",
    "    highs = []\n",
    "    for row in reader:\n",
    "        high = int(row[5]) # the max temperatore column (see above the index 5)\n",
    "        highs.append(high)\n",
    "\n",
    "# the high temperqatures\n",
    "plt.style.use('seaborn')\n",
    "fig, axis = plt.subplots()\n",
    "axis.plot(dates, highs, c='red')\n",
    "axis.plot(dates, lows, c='blue')\n",
    "plt.fill_between(dates, highs, lows, facecolor='blue', alpha=0.1) # alpha = transparency\n",
    "\n",
    "# Plot formatting\n",
    "plt.title(\"Daily high and low temp, July 2018\", fontsize=24)\n",
    "plt.xlabel('Date', fontsize=16)\n",
    "fig.autofmt_xdate() # auto formatter of the date # TODO: Comment this to see what it does.\n",
    "plt.ylabel(\"Temperature [F]:\", fontsize=16)\n",
    "plt.tick_params(axis='both', which='major', labelsize=16)\n",
    "\n",
    "plt.show()"
   ]
  }
 ],
 "metadata": {
  "kernelspec": {
   "display_name": "Python 3 (ipykernel)",
   "language": "python",
   "name": "python3"
  },
  "language_info": {
   "codemirror_mode": {
    "name": "ipython",
    "version": 3
   },
   "file_extension": ".py",
   "mimetype": "text/x-python",
   "name": "python",
   "nbconvert_exporter": "python",
   "pygments_lexer": "ipython3",
   "version": "3.10.12"
  }
 },
 "nbformat": 4,
 "nbformat_minor": 5
}
