{
 "cells": [
  {
   "cell_type": "code",
   "execution_count": null,
   "id": "77559702-9306-4f17-8931-5895fa6bc8ca",
   "metadata": {},
   "outputs": [],
   "source": [
    "# Intermediate testing techniques"
   ]
  },
  {
   "cell_type": "code",
   "execution_count": 18,
   "id": "a36cb4ec-a8bf-4fa8-8dad-8592465c491e",
   "metadata": {},
   "outputs": [],
   "source": [
    "import unittest\n",
    "\n",
    "class TestProducts(unittest.TestCase):\n",
    "\n",
    "    def test_valid_product(self):\n",
    "        products = [\"guitar\", \"drums\", \"keys\"]\n",
    "        self.assertIn(\"guitar\", products)\n",
    "        self.assertNotIn(\"piano\", products)"
   ]
  },
  {
   "cell_type": "code",
   "execution_count": 19,
   "id": "85d1a421-4090-410e-add4-bdc9bf762c4b",
   "metadata": {},
   "outputs": [
    {
     "name": "stderr",
     "output_type": "stream",
     "text": [
      "test_valid_product (__main__.TestProducts) ... ok\n",
      "\n",
      "----------------------------------------------------------------------\n",
      "Ran 1 test in 0.004s\n",
      "\n",
      "OK\n"
     ]
    },
    {
     "data": {
      "text/plain": [
       "<unittest.main.TestProgram at 0x7fec857186d0>"
      ]
     },
     "execution_count": 19,
     "metadata": {},
     "output_type": "execute_result"
    }
   ],
   "source": [
    "unittest.main(argv=[''], verbosity=2, exit=False)"
   ]
  },
  {
   "cell_type": "code",
   "execution_count": 25,
   "id": "f09f3ad4-32c6-428a-9f18-f79be0193ad0",
   "metadata": {},
   "outputs": [],
   "source": [
    "# Better way:\n",
    "\n",
    "class TestProducts(unittest.TestCase):\n",
    "\n",
    "    def setUp(self):\n",
    "        self.products = [\"guitar\", \"drums\", \"keys\"]\n",
    "    \n",
    "    def test_valid_product(self):\n",
    "        self.assertIn(\"guitar\", self.products)\n",
    "\n",
    "    def test_invalid_product(self):\n",
    "        self.assertNotIn(\"piano\", self.products)"
   ]
  },
  {
   "cell_type": "code",
   "execution_count": 26,
   "id": "e45c4dd4-0a2f-42f4-b8fb-e32bd1f3b9f4",
   "metadata": {},
   "outputs": [
    {
     "name": "stderr",
     "output_type": "stream",
     "text": [
      "test_invalid_product (__main__.TestProducts) ... ok\n",
      "test_valid_product (__main__.TestProducts) ... ok\n",
      "\n",
      "----------------------------------------------------------------------\n",
      "Ran 2 tests in 0.014s\n",
      "\n",
      "OK\n"
     ]
    },
    {
     "data": {
      "text/plain": [
       "<unittest.main.TestProgram at 0x7fec84effee0>"
      ]
     },
     "execution_count": 26,
     "metadata": {},
     "output_type": "execute_result"
    }
   ],
   "source": [
    "unittest.main(argv=[''], verbosity=2, exit=False)"
   ]
  },
  {
   "cell_type": "code",
   "execution_count": null,
   "id": "92f7cdd9-b38a-456c-8b32-5128ed973b5e",
   "metadata": {},
   "outputs": [],
   "source": []
  }
 ],
 "metadata": {
  "kernelspec": {
   "display_name": "Python 3 (ipykernel)",
   "language": "python",
   "name": "python3"
  },
  "language_info": {
   "codemirror_mode": {
    "name": "ipython",
    "version": 3
   },
   "file_extension": ".py",
   "mimetype": "text/x-python",
   "name": "python",
   "nbconvert_exporter": "python",
   "pygments_lexer": "ipython3",
   "version": "3.10.12"
  }
 },
 "nbformat": 4,
 "nbformat_minor": 5
}
