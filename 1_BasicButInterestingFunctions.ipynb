{
 "cells": [
  {
   "cell_type": "code",
   "execution_count": 2,
   "id": "1a7d863c-5e3f-40c3-a037-4824e3690ea1",
   "metadata": {},
   "outputs": [
    {
     "data": {
      "text/plain": [
       "'python '"
      ]
     },
     "execution_count": 2,
     "metadata": {},
     "output_type": "execute_result"
    }
   ],
   "source": [
    "favorite_lang = 'python '\n",
    "favorite_lang"
   ]
  },
  {
   "cell_type": "code",
   "execution_count": 3,
   "id": "6d348531-5e3a-4e2e-a7ed-6bbc8805888a",
   "metadata": {},
   "outputs": [
    {
     "data": {
      "text/plain": [
       "'python'"
      ]
     },
     "execution_count": 3,
     "metadata": {},
     "output_type": "execute_result"
    }
   ],
   "source": [
    "favorite_lang.rstrip()"
   ]
  },
  {
   "cell_type": "code",
   "execution_count": 4,
   "id": "f7e428f5-8f59-483b-bedf-9c309bd7a3cb",
   "metadata": {},
   "outputs": [
    {
     "data": {
      "text/plain": [
       "14000000000"
      ]
     },
     "execution_count": 4,
     "metadata": {},
     "output_type": "execute_result"
    }
   ],
   "source": [
    "some_big_age = 14_000_000_000\n",
    "some_big_age # THIS WORKS! And it is more readable..."
   ]
  },
  {
   "cell_type": "code",
   "execution_count": 6,
   "id": "db497d26-4766-44ca-9742-ef79f7e1bbaa",
   "metadata": {},
   "outputs": [
    {
     "data": {
      "text/plain": [
       "'Hi, This Is Not The Hello World!'"
      ]
     },
     "execution_count": 6,
     "metadata": {},
     "output_type": "execute_result"
    }
   ],
   "source": [
    "small_letters = 'hi, this is not the hello world!'\n",
    "small_letters.title() # All letters capitals"
   ]
  },
  {
   "cell_type": "code",
   "execution_count": 13,
   "id": "b5e912d6-d9dd-48fb-aeb0-7f7479c0545f",
   "metadata": {},
   "outputs": [
    {
     "data": {
      "text/plain": [
       "'third'"
      ]
     },
     "execution_count": 13,
     "metadata": {},
     "output_type": "execute_result"
    }
   ],
   "source": [
    "dummy_list = [\"first\", \"second\", \"third\"]\n",
    "dummy_list[-1] # This works. There is no error."
   ]
  },
  {
   "cell_type": "code",
   "execution_count": 8,
   "id": "d8f95e3b-5b6e-4f18-b092-a9843412fea3",
   "metadata": {},
   "outputs": [
    {
     "ename": "IndexError",
     "evalue": "list index out of range",
     "output_type": "error",
     "traceback": [
      "\u001b[0;31m---------------------------------------------------------------------------\u001b[0m",
      "\u001b[0;31mIndexError\u001b[0m                                Traceback (most recent call last)",
      "Cell \u001b[0;32mIn[8], line 1\u001b[0m\n\u001b[0;32m----> 1\u001b[0m \u001b[43mdummy_list\u001b[49m\u001b[43m[\u001b[49m\u001b[38;5;241;43m5\u001b[39;49m\u001b[43m]\u001b[49m\n",
      "\u001b[0;31mIndexError\u001b[0m: list index out of range"
     ]
    }
   ],
   "source": [
    " # dummy_list[5] # But obviously, this does not"
   ]
  },
  {
   "cell_type": "code",
   "execution_count": 14,
   "id": "48ea073a-f4be-41a3-b4db-8e4e978de81a",
   "metadata": {},
   "outputs": [
    {
     "data": {
      "text/plain": [
       "['first', 'one and half', 'second', 'third']"
      ]
     },
     "execution_count": 14,
     "metadata": {},
     "output_type": "execute_result"
    }
   ],
   "source": [
    "dummy_list.insert(1, \"one and half\")\n",
    "dummy_list"
   ]
  },
  {
   "cell_type": "code",
   "execution_count": 15,
   "id": "2821d586-70fa-4797-91cd-af5e45c952d5",
   "metadata": {},
   "outputs": [
    {
     "data": {
      "text/plain": [
       "['first', 'second', 'third']"
      ]
     },
     "execution_count": 15,
     "metadata": {},
     "output_type": "execute_result"
    }
   ],
   "source": [
    "del dummy_list[1]\n",
    "dummy_list"
   ]
  },
  {
   "cell_type": "code",
   "execution_count": 18,
   "id": "f325d3a8-09d5-44ed-99d8-923d51588df7",
   "metadata": {},
   "outputs": [
    {
     "data": {
      "text/plain": [
       "['first', 'third']"
      ]
     },
     "execution_count": 18,
     "metadata": {},
     "output_type": "execute_result"
    }
   ],
   "source": [
    "dummy_list = [\"first\", \"second\", \"third\"]\n",
    "dummy_list.remove('second')\n",
    "dummy_list"
   ]
  },
  {
   "cell_type": "code",
   "execution_count": 19,
   "id": "2ddc88d1-d24b-4212-8352-8453af79a3cd",
   "metadata": {},
   "outputs": [
    {
     "ename": "ValueError",
     "evalue": "list.remove(x): x not in list",
     "output_type": "error",
     "traceback": [
      "\u001b[0;31m---------------------------------------------------------------------------\u001b[0m",
      "\u001b[0;31mValueError\u001b[0m                                Traceback (most recent call last)",
      "Cell \u001b[0;32mIn[19], line 2\u001b[0m\n\u001b[1;32m      1\u001b[0m \u001b[38;5;66;03m# Be careful for the errors:\u001b[39;00m\n\u001b[0;32m----> 2\u001b[0m \u001b[43mdummy_list\u001b[49m\u001b[38;5;241;43m.\u001b[39;49m\u001b[43mremove\u001b[49m\u001b[43m(\u001b[49m\u001b[38;5;124;43m'\u001b[39;49m\u001b[38;5;124;43msecond\u001b[39;49m\u001b[38;5;124;43m'\u001b[39;49m\u001b[43m)\u001b[49m\n",
      "\u001b[0;31mValueError\u001b[0m: list.remove(x): x not in list"
     ]
    }
   ],
   "source": [
    "# Be careful for the errors:\n",
    "dummy_list.remove('second')"
   ]
  },
  {
   "cell_type": "code",
   "execution_count": 20,
   "id": "76d73130-6ad7-46dd-9090-ded706c17e99",
   "metadata": {},
   "outputs": [
    {
     "name": "stdout",
     "output_type": "stream",
     "text": [
      "second not found\n"
     ]
    }
   ],
   "source": [
    "item_to_find = 'second'\n",
    "try:\n",
    "    dummy_list.remove(item_to_find)\n",
    "except ValueError:\n",
    "    print(f\"{item_to_find} not found\")"
   ]
  },
  {
   "cell_type": "code",
   "execution_count": 21,
   "id": "de5258a1-4c42-4590-9ea5-128208621f61",
   "metadata": {},
   "outputs": [
    {
     "ename": "IndexError",
     "evalue": "list index out of range",
     "output_type": "error",
     "traceback": [
      "\u001b[0;31m---------------------------------------------------------------------------\u001b[0m",
      "\u001b[0;31mIndexError\u001b[0m                                Traceback (most recent call last)",
      "Cell \u001b[0;32mIn[21], line 1\u001b[0m\n\u001b[0;32m----> 1\u001b[0m \u001b[43mdummy_list\u001b[49m\u001b[43m[\u001b[49m\u001b[38;5;241;43m3\u001b[39;49m\u001b[43m]\u001b[49m\n",
      "\u001b[0;31mIndexError\u001b[0m: list index out of range"
     ]
    }
   ],
   "source": [
    "dummy_list[3]"
   ]
  },
  {
   "cell_type": "code",
   "execution_count": 22,
   "id": "33c7bd7f-9f23-485e-9e02-011ce5af8747",
   "metadata": {},
   "outputs": [
    {
     "data": {
      "text/plain": [
       "'third'"
      ]
     },
     "execution_count": 22,
     "metadata": {},
     "output_type": "execute_result"
    }
   ],
   "source": [
    "# PRO TIP: Always access the last element with the [-1]!!!\n",
    "dummy_list[-1] # This will work always"
   ]
  },
  {
   "cell_type": "code",
   "execution_count": 23,
   "id": "f9c0df7c-ab5b-4b8c-9ba2-5841afed7bef",
   "metadata": {},
   "outputs": [
    {
     "ename": "IndexError",
     "evalue": "list index out of range",
     "output_type": "error",
     "traceback": [
      "\u001b[0;31m---------------------------------------------------------------------------\u001b[0m",
      "\u001b[0;31mIndexError\u001b[0m                                Traceback (most recent call last)",
      "Cell \u001b[0;32mIn[23], line 2\u001b[0m\n\u001b[1;32m      1\u001b[0m empty_list \u001b[38;5;241m=\u001b[39m []\n\u001b[0;32m----> 2\u001b[0m \u001b[43mempty_list\u001b[49m\u001b[43m[\u001b[49m\u001b[38;5;241;43m-\u001b[39;49m\u001b[38;5;241;43m1\u001b[39;49m\u001b[43m]\u001b[49m\n",
      "\u001b[0;31mIndexError\u001b[0m: list index out of range"
     ]
    }
   ],
   "source": [
    "empty_list = []\n",
    "empty_list[-1] # Unless the list is empty :-( (You can use try-except)"
   ]
  },
  {
   "cell_type": "code",
   "execution_count": 25,
   "id": "9bc8986e-bbf4-4591-9e8c-ee2c2d3a796c",
   "metadata": {},
   "outputs": [
    {
     "data": {
      "text/plain": [
       "[2, 4, 6, 8, 10, 12, 14]"
      ]
     },
     "execution_count": 25,
     "metadata": {},
     "output_type": "execute_result"
    }
   ],
   "source": [
    "# HOW TO: Quickly generate a list o numbers\n",
    "some_even_numbers = list(range(2,15,2))\n",
    "some_even_numbers"
   ]
  },
  {
   "cell_type": "code",
   "execution_count": 26,
   "id": "7cdb93dd-a94b-4f3a-8722-a74c15454493",
   "metadata": {},
   "outputs": [
    {
     "data": {
      "text/plain": [
       "[10, 12, 14]"
      ]
     },
     "execution_count": 26,
     "metadata": {},
     "output_type": "execute_result"
    }
   ],
   "source": [
    "# As with the single returned instance, it is better to retrieve a n last items with a - sign rather than indexing to the end\n",
    "some_even_numbers[4:] # LAME"
   ]
  },
  {
   "cell_type": "code",
   "execution_count": 29,
   "id": "ff5fdcac-55ef-4486-90e8-777c44bea54d",
   "metadata": {},
   "outputs": [
    {
     "data": {
      "text/plain": [
       "[10, 12, 14]"
      ]
     },
     "execution_count": 29,
     "metadata": {},
     "output_type": "execute_result"
    }
   ],
   "source": [
    "last_n = 3\n",
    "some_even_numbers[-last_n:] # MUCH BETTER!"
   ]
  },
  {
   "cell_type": "code",
   "execution_count": 30,
   "id": "1b8dbb06-6428-4259-bc3b-08e4b6158645",
   "metadata": {},
   "outputs": [
    {
     "data": {
      "text/plain": [
       "[2, 4, 6, 8, 10, 12, 14, 40]"
      ]
     },
     "execution_count": 30,
     "metadata": {},
     "output_type": "execute_result"
    }
   ],
   "source": [
    "some_even_numbers.append(40)\n",
    "some_even_numbers"
   ]
  },
  {
   "cell_type": "code",
   "execution_count": 31,
   "id": "0c5e2699-bdcc-4137-8caa-c237a1c4764c",
   "metadata": {},
   "outputs": [],
   "source": [
    "some_other_even_number = some_even_numbers"
   ]
  },
  {
   "cell_type": "code",
   "execution_count": 32,
   "id": "167f232f-c304-4c60-8721-9395db181282",
   "metadata": {},
   "outputs": [],
   "source": [
    "some_other_even_number.append(46)"
   ]
  },
  {
   "cell_type": "code",
   "execution_count": 33,
   "id": "f5abd439-571b-425d-90b4-0e16bb96b586",
   "metadata": {},
   "outputs": [
    {
     "data": {
      "text/plain": [
       "[2, 4, 6, 8, 10, 12, 14, 40, 46]"
      ]
     },
     "execution_count": 33,
     "metadata": {},
     "output_type": "execute_result"
    }
   ],
   "source": [
    "some_other_even_number"
   ]
  },
  {
   "cell_type": "code",
   "execution_count": 34,
   "id": "ee42eb5f-ba78-4439-9932-c09c9e5fcb6a",
   "metadata": {},
   "outputs": [
    {
     "data": {
      "text/plain": [
       "[2, 4, 6, 8, 10, 12, 14, 40, 46]"
      ]
     },
     "execution_count": 34,
     "metadata": {},
     "output_type": "execute_result"
    }
   ],
   "source": [
    "some_even_numbers # Also has 40"
   ]
  },
  {
   "cell_type": "code",
   "execution_count": 37,
   "id": "36224ecc-5404-4005-8bb6-dfabb636e32d",
   "metadata": {},
   "outputs": [
    {
     "data": {
      "text/plain": [
       "[2, 4, 6, 8, 10, 12, 14, 40, 46]"
      ]
     },
     "execution_count": 37,
     "metadata": {},
     "output_type": "execute_result"
    }
   ],
   "source": [
    "# UGHHH!? I wanted to onyl copy the lists!\n",
    "# Let's try one way of copying the list:\n",
    "some_other_even_numbers = []\n",
    "some_other_even_numbers = some_even_numbers[:]\n",
    "some_other_even_numbers"
   ]
  },
  {
   "cell_type": "code",
   "execution_count": 40,
   "id": "399bb73c-551d-4f27-84b6-0e7dcf94456a",
   "metadata": {},
   "outputs": [
    {
     "data": {
      "text/plain": [
       "[2, 4, 6, 8, 10, 12, 14, 40, 46, 120, 120, 120]"
      ]
     },
     "execution_count": 40,
     "metadata": {},
     "output_type": "execute_result"
    }
   ],
   "source": [
    "some_even_numbers.append(120)\n",
    "some_even_numbers.append(120)\n",
    "some_even_numbers.append(120)\n",
    "some_even_numbers"
   ]
  },
  {
   "cell_type": "code",
   "execution_count": 41,
   "id": "42b05539-5ca5-4ae5-ac37-c44f2a39ca76",
   "metadata": {},
   "outputs": [
    {
     "data": {
      "text/plain": [
       "[2, 4, 6, 8, 10, 12, 14, 40, 46]"
      ]
     },
     "execution_count": 41,
     "metadata": {},
     "output_type": "execute_result"
    }
   ],
   "source": [
    "some_other_even_numbers # This time will not add the 120!"
   ]
  },
  {
   "cell_type": "code",
   "execution_count": null,
   "id": "4c619657-2922-44db-ba75-7a101c76e87a",
   "metadata": {},
   "outputs": [],
   "source": [
    "# IMPORTANT: the intent of the '=' is NEVER EVER a copying some values. The '=' is not called sometimes a reference by a chance!!!\n"
   ]
  },
  {
   "cell_type": "code",
   "execution_count": 42,
   "id": "159a2bce-6674-4457-a952-0e820115d5eb",
   "metadata": {},
   "outputs": [],
   "source": [
    "some_other_even_numbers = []\n",
    "some_other_even_numbers = some_even_numbers.copy()"
   ]
  },
  {
   "cell_type": "code",
   "execution_count": 43,
   "id": "898974c7-0b21-498b-b65d-f189a95c00bc",
   "metadata": {},
   "outputs": [
    {
     "data": {
      "text/plain": [
       "[2, 4, 6, 8, 10, 12, 14, 40, 46, 120, 120, 120, 120, 120, 120]"
      ]
     },
     "execution_count": 43,
     "metadata": {},
     "output_type": "execute_result"
    }
   ],
   "source": [
    "some_even_numbers.append(120)\n",
    "some_even_numbers.append(120)\n",
    "some_even_numbers.append(120)\n",
    "some_even_numbers"
   ]
  },
  {
   "cell_type": "code",
   "execution_count": 45,
   "id": "5371da55-0dba-4d5e-b8c7-ed2279cad721",
   "metadata": {},
   "outputs": [
    {
     "data": {
      "text/plain": [
       "[2, 4, 6, 8, 10, 12, 14, 40, 46, 120, 120, 120]"
      ]
     },
     "execution_count": 45,
     "metadata": {},
     "output_type": "execute_result"
    }
   ],
   "source": [
    "some_other_even_numbers # Not changed"
   ]
  },
  {
   "cell_type": "code",
   "execution_count": 54,
   "id": "af5fcbc0-782e-47bf-8302-cfea216da50c",
   "metadata": {},
   "outputs": [
    {
     "data": {
      "text/plain": [
       "4"
      ]
     },
     "execution_count": 54,
     "metadata": {},
     "output_type": "execute_result"
    }
   ],
   "source": [
    "# You can't modify the tuple\n",
    "dummy_tuple = (4,5)\n",
    "dummy_tuple[0]"
   ]
  },
  {
   "cell_type": "code",
   "execution_count": 52,
   "id": "2fe594c9-8ea4-479a-8220-296af0c9fdde",
   "metadata": {},
   "outputs": [
    {
     "ename": "TypeError",
     "evalue": "'tuple' object does not support item assignment",
     "output_type": "error",
     "traceback": [
      "\u001b[0;31m---------------------------------------------------------------------------\u001b[0m",
      "\u001b[0;31mTypeError\u001b[0m                                 Traceback (most recent call last)",
      "Cell \u001b[0;32mIn[52], line 1\u001b[0m\n\u001b[0;32m----> 1\u001b[0m \u001b[43mdummy_tuple\u001b[49m\u001b[43m[\u001b[49m\u001b[38;5;241;43m0\u001b[39;49m\u001b[43m]\u001b[49m \u001b[38;5;241m=\u001b[39m \u001b[38;5;241m242\u001b[39m\n",
      "\u001b[0;31mTypeError\u001b[0m: 'tuple' object does not support item assignment"
     ]
    }
   ],
   "source": [
    "dummy_tuple[0] = 242"
   ]
  },
  {
   "cell_type": "code",
   "execution_count": 55,
   "id": "778e155b-87b5-4ed6-aa07-773d29479046",
   "metadata": {},
   "outputs": [
    {
     "data": {
      "text/plain": [
       "(242, 5)"
      ]
     },
     "execution_count": 55,
     "metadata": {},
     "output_type": "execute_result"
    }
   ],
   "source": [
    "dummy_tuple = (242, dummy_tuple[1]) # But we can achieve the same effect like this.\n",
    "dummy_tuple"
   ]
  },
  {
   "cell_type": "code",
   "execution_count": 2,
   "id": "a73414fd-5418-4ce9-9346-dd9f327b146e",
   "metadata": {},
   "outputs": [
    {
     "data": {
      "text/plain": [
       "{'price': 120, 'name': 'Mini Chocolate', 'brand': 'Kinder'}"
      ]
     },
     "execution_count": 2,
     "metadata": {},
     "output_type": "execute_result"
    }
   ],
   "source": [
    "shopping_item = {'price': 120, 'name': \"Mini Chocolate\", 'brand': \"Kinder\"}\n",
    "shopping_item"
   ]
  },
  {
   "cell_type": "code",
   "execution_count": 3,
   "id": "96936706-79f2-4a55-976c-f10a2efeeaf3",
   "metadata": {},
   "outputs": [
    {
     "data": {
      "text/plain": [
       "'Mini Chocolate'"
      ]
     },
     "execution_count": 3,
     "metadata": {},
     "output_type": "execute_result"
    }
   ],
   "source": [
    "shopping_item['name']"
   ]
  },
  {
   "cell_type": "code",
   "execution_count": 4,
   "id": "20484cd5-e8ca-401b-b833-aa60c6407bef",
   "metadata": {},
   "outputs": [
    {
     "ename": "KeyError",
     "evalue": "'barcode'",
     "output_type": "error",
     "traceback": [
      "\u001b[0;31m---------------------------------------------------------------------------\u001b[0m",
      "\u001b[0;31mKeyError\u001b[0m                                  Traceback (most recent call last)",
      "Cell \u001b[0;32mIn[4], line 1\u001b[0m\n\u001b[0;32m----> 1\u001b[0m \u001b[43mshopping_item\u001b[49m\u001b[43m[\u001b[49m\u001b[38;5;124;43m'\u001b[39;49m\u001b[38;5;124;43mbarcode\u001b[39;49m\u001b[38;5;124;43m'\u001b[39;49m\u001b[43m]\u001b[49m\n",
      "\u001b[0;31mKeyError\u001b[0m: 'barcode'"
     ]
    }
   ],
   "source": [
    "shopping_item['barcode']"
   ]
  },
  {
   "cell_type": "code",
   "execution_count": 5,
   "id": "5e685935-48ae-4b3e-b30f-0ffdb644256b",
   "metadata": {},
   "outputs": [],
   "source": [
    "shopping_item.get('barcode') # No error here, even if it does not exists\n",
    "# You need to ask yourself what yoou need"
   ]
  },
  {
   "cell_type": "code",
   "execution_count": 6,
   "id": "ed192926-a3c7-4ed1-ae9b-eb9e2436e0b0",
   "metadata": {},
   "outputs": [
    {
     "data": {
      "text/plain": [
       "'No value'"
      ]
     },
     "execution_count": 6,
     "metadata": {},
     "output_type": "execute_result"
    }
   ],
   "source": [
    "shopping_item.get('barcode', 'No value') # This may be good for sending something user readable to the user right away (withotu checking for None by if)"
   ]
  },
  {
   "cell_type": "code",
   "execution_count": 7,
   "id": "b59fdafc-496b-4573-92b4-b6a84947948c",
   "metadata": {},
   "outputs": [
    {
     "data": {
      "text/plain": [
       "True"
      ]
     },
     "execution_count": 7,
     "metadata": {},
     "output_type": "execute_result"
    }
   ],
   "source": [
    "shopping_item.get('barcode') == None"
   ]
  },
  {
   "cell_type": "code",
   "execution_count": 8,
   "id": "49549d6a-42d3-4605-8bd5-0624b772e8a5",
   "metadata": {},
   "outputs": [
    {
     "data": {
      "text/plain": [
       "True"
      ]
     },
     "execution_count": 8,
     "metadata": {},
     "output_type": "execute_result"
    }
   ],
   "source": [
    "shopping_item.get('barcode', 'No value') == 'No value'"
   ]
  },
  {
   "cell_type": "code",
   "execution_count": 10,
   "id": "c35c33a5-416e-4737-b66e-dcaafe32484d",
   "metadata": {},
   "outputs": [
    {
     "name": "stdout",
     "output_type": "stream",
     "text": [
      "price\n",
      "name\n",
      "brand\n",
      "price\n",
      "name\n",
      "brand\n"
     ]
    }
   ],
   "source": [
    "for dummy_item in shopping_item:\n",
    "    print(dummy_item)\n",
    "\n",
    "# Same:\n",
    "for dummy_item in shopping_item.keys(): # May be more readable\n",
    "    print(dummy_item)"
   ]
  },
  {
   "cell_type": "code",
   "execution_count": 21,
   "id": "8dad8cad-2237-4193-8973-550a1fa536ad",
   "metadata": {},
   "outputs": [
    {
     "data": {
      "text/plain": [
       "['Josh Starmer']"
      ]
     },
     "execution_count": 21,
     "metadata": {},
     "output_type": "execute_result"
    }
   ],
   "source": [
    "dummy_list_x = [\"Dummy dummy\", \"Bam!\", \"Josh Starmer\"]\n",
    "\n",
    "def doing_something_with_list(some_dummy_list):\n",
    "    dummy_list_x.remove(\"Bam!\")\n",
    "    del dummy_list_x[0]\n",
    "\n",
    "doing_something_with_list(dummy_list_x)\n",
    "dummy_list_x"
   ]
  },
  {
   "cell_type": "code",
   "execution_count": 22,
   "id": "f29c153a-8845-44fe-9dac-8900fb8357dd",
   "metadata": {},
   "outputs": [
    {
     "data": {
      "text/plain": [
       "['Josh Starmer']"
      ]
     },
     "execution_count": 22,
     "metadata": {},
     "output_type": "execute_result"
    }
   ],
   "source": [
    "dummy_list_x = [\"Dummy dummy\", \"Bam!\", \"Josh Starmer\"]\n",
    "\n",
    "def doing_something_with_list(some_dummy_list):\n",
    "    some_dummy_list.remove(\"Bam!\")\n",
    "    del some_dummy_list[0]\n",
    "\n",
    "doing_something_with_list(dummy_list_x)\n",
    "dummy_list_x # The original list is affected since passing creates a reference\n",
    "# Does the same thing as '=', but we will not go into the small differences here"
   ]
  },
  {
   "cell_type": "code",
   "execution_count": 24,
   "id": "d36963b6-231c-4196-b615-999e0d0da0bf",
   "metadata": {},
   "outputs": [
    {
     "data": {
      "text/plain": [
       "['Dummy dummy', 'Bam!', 'Josh Starmer']"
      ]
     },
     "execution_count": 24,
     "metadata": {},
     "output_type": "execute_result"
    }
   ],
   "source": [
    "dummy_list_x_original = [\"Dummy dummy\", \"Bam!\", \"Josh Starmer\"]\n",
    "\n",
    "doing_something_with_list(dummy_list_x_original[:])\n",
    "dummy_list_x_original # Unchanged"
   ]
  },
  {
   "cell_type": "code",
   "execution_count": 25,
   "id": "3c234598-50ad-45e8-8057-6bbf28a861a7",
   "metadata": {},
   "outputs": [
    {
     "data": {
      "text/plain": [
       "['Dummy dummy', 'Bam!', 'Josh Starmer']"
      ]
     },
     "execution_count": 25,
     "metadata": {},
     "output_type": "execute_result"
    }
   ],
   "source": [
    "doing_something_with_list(dummy_list_x_original.copy())\n",
    "dummy_list_x_original # Unchanged, better readable"
   ]
  },
  {
   "cell_type": "code",
   "execution_count": 26,
   "id": "2bde6fde-663e-48e6-ac60-cf4dec8a1ba3",
   "metadata": {},
   "outputs": [
    {
     "name": "stdout",
     "output_type": "stream",
     "text": [
      "(['Dummy dummy', 'Bam!', 'Josh Starmer'],)\n"
     ]
    }
   ],
   "source": [
    "def print_more_items(*items):\n",
    "    print(items)\n",
    "\n",
    "\n",
    "print_more_items(dummy_list_x_original)"
   ]
  },
  {
   "cell_type": "code",
   "execution_count": 27,
   "id": "145f2c61-dd7f-4527-b824-477f79573265",
   "metadata": {},
   "outputs": [
    {
     "name": "stdout",
     "output_type": "stream",
     "text": [
      "('Dummy dummy', 'Bam!', 'Josh Starmer')\n"
     ]
    }
   ],
   "source": [
    "print_more_items(dummy_list_x_original[0], dummy_list_x_original[1], dummy_list_x_original[2])"
   ]
  },
  {
   "cell_type": "code",
   "execution_count": 29,
   "id": "261732a6-6643-4ea5-a14d-d8795ca62057",
   "metadata": {},
   "outputs": [
    {
     "name": "stdout",
     "output_type": "stream",
     "text": [
      "['Dummy dummy', 'Bam!', 'Josh Starmer']\n"
     ]
    }
   ],
   "source": [
    "def print_more_items(*items):\n",
    "    for item in items:\n",
    "        print(item)\n",
    "\n",
    "print_more_items(dummy_list_x_original)"
   ]
  },
  {
   "cell_type": "code",
   "execution_count": 31,
   "id": "a3cee0ca-9391-4452-8b3a-8fea2c7ab52e",
   "metadata": {},
   "outputs": [
    {
     "name": "stdout",
     "output_type": "stream",
     "text": [
      "['proscioutto', 'ruccoli']\n",
      "['proscioutto', 'ruccoli', 'parmegiano', 'pancetta', 'chilli']\n",
      "['proscioutto', 'ruccoli', 'parmegiano', 'pancetta', 'chilli', 'salami', 'ham']\n"
     ]
    }
   ],
   "source": [
    "pizza_toppings = []\n",
    "\n",
    "def add_pizza_topping(*toppings):\n",
    "    for topping in toppings:\n",
    "        if topping != \"annanas\":\n",
    "            pizza_toppings.append(topping)\n",
    "\n",
    "add_pizza_topping(\"proscioutto\", \"ruccoli\")\n",
    "print_more_items(pizza_toppings)\n",
    "add_pizza_topping(\"parmegiano\", \"pancetta\", \"chilli\")\n",
    "print_more_items(pizza_toppings)\n",
    "add_pizza_topping(\"salami\", \"ham\", \"annanas\")\n",
    "print_more_items(pizza_toppings)"
   ]
  },
  {
   "cell_type": "code",
   "execution_count": 36,
   "id": "00da2b60-5a1b-4b04-a2b0-f439fa55eb7a",
   "metadata": {},
   "outputs": [
    {
     "name": "stdout",
     "output_type": "stream",
     "text": [
      "['fungi', 'gorgonzola', 'tomato']\n"
     ]
    }
   ],
   "source": [
    "pizza_ingredients = []\n",
    "\n",
    "def add_pizza(base, *toppings):\n",
    "    for topping in toppings:\n",
    "        if topping != \"annanas\":\n",
    "            pizza_ingredients.append(topping)\n",
    "\n",
    "    if base == \"tomato\" or base == \"cream\":\n",
    "        # pizza_ingredients.append(topping) # Notice: This would add the last item in for (the 'topping' variable still exists!\n",
    "        pizza_ingredients.append(base)\n",
    "\n",
    "add_pizza(\"tomato\", \"fungi\", \"gorgonzola\") # One single param. is separated, then we can ad the others\n",
    "print_more_items(pizza_ingredients)"
   ]
  },
  {
   "cell_type": "code",
   "execution_count": 1,
   "id": "faf99d97-4cdb-483a-bfc2-68138a94cdae",
   "metadata": {},
   "outputs": [
    {
     "data": {
      "text/plain": [
       "{'country': 'USA',\n",
       " 'job': 'unemployed',\n",
       " 'first_name': 'Jack',\n",
       " 'last_name': 'Sawyer'}"
      ]
     },
     "execution_count": 1,
     "metadata": {},
     "output_type": "execute_result"
    }
   ],
   "source": [
    "# Arbitrary number of keys and values pairs\n",
    "\n",
    "def create_profile(first_name, last_name, **user_info):\n",
    "    user_info['first_name'] = first_name\n",
    "    user_info['last_name'] = last_name\n",
    "    return user_info\n",
    "\n",
    "create_profile(\"Jack\", \"Sawyer\", country=\"USA\", job=\"unemployed\")\n",
    "\n"
   ]
  },
  {
   "cell_type": "code",
   "execution_count": 5,
   "id": "3705ff61-bcef-4e0f-a213-f84e315ed909",
   "metadata": {},
   "outputs": [
    {
     "ename": "SyntaxError",
     "evalue": "invalid syntax (3107104252.py, line 2)",
     "output_type": "error",
     "traceback": [
      "\u001b[0;36m  Cell \u001b[0;32mIn[5], line 2\u001b[0;36m\u001b[0m\n\u001b[0;31m    import .create_profile\u001b[0m\n\u001b[0m           ^\u001b[0m\n\u001b[0;31mSyntaxError\u001b[0m\u001b[0;31m:\u001b[0m invalid syntax\n"
     ]
    }
   ],
   "source": [
    "# Inheritance"
   ]
  },
  {
   "cell_type": "code",
   "execution_count": 20,
   "id": "7cb8b295-c524-456a-9295-ad4056544c89",
   "metadata": {},
   "outputs": [
    {
     "data": {
      "text/plain": [
       "'<bound method Car.get_descriptive_name of <__main__.ElectricCar object at 0x7f5750228ac0>>battery type: Lithium'"
      ]
     },
     "execution_count": 20,
     "metadata": {},
     "output_type": "execute_result"
    }
   ],
   "source": [
    "class Car:\n",
    "    \"\"\"A simple attempt to represent a car.\"\"\"\n",
    "    def __init__(self, manufacturer, model, year):\n",
    "        self.manufacturer = manufacturer\n",
    "        self.model = model\n",
    "        self.year = year\n",
    "        self.odometer_reading = 0\n",
    "    \n",
    "    def get_descriptive_name(self):\n",
    "        long_name = f\"{self.year} {self.manufacturer} {self.model}\"\n",
    "        return long_name.title()\n",
    "\n",
    "    def read_odometer(self):\n",
    "        print(f\"This car has {self.odometer_reading} miles on it.\")\n",
    "\n",
    "    def update_odometer(self, mileage):\n",
    "        if mileage >= self.odometer_reading:\n",
    "            self.odometer_reading = mileage\n",
    "        else:\n",
    "            print(\"You can't roll back an odometer!\")\n",
    "\n",
    "    def increment_odometer(self, miles):\n",
    "        self.odometer_reading += miles\n",
    "\n",
    "# We want to inherit now the common values from the parent class Car\n",
    "class ElectricCar(Car):\n",
    "\n",
    "    def __init__(self, manufacturer, model, year, battery_type):\n",
    "        super().__init__(manufacturer, model, year) # create the parent by its data    \n",
    "        self.battery_type = battery_type\n",
    "\n",
    "    def __str__(self):\n",
    "        # return str(super().get_descriptive_name) + \"battery type: \" + self.battery_type\n",
    "        return str(super().get_descriptive_name) + \"battery type: \" + self.battery_type\n",
    "\n",
    "tesla = ElectricCar(\"Tesla\", \"S\", 2018, \"Lithium\")\n",
    "tesla.get_descriptive_name() # we call the parent method\n",
    "str(tesla) # the get_descriptive_name() from Car does not work for printing the data\n",
    "\n",
    "# We could do instead:"
   ]
  },
  {
   "cell_type": "code",
   "execution_count": 28,
   "id": "3e040038-f319-4780-a0f3-4029594bf36d",
   "metadata": {},
   "outputs": [
    {
     "data": {
      "text/plain": [
       "'2018 Tesla S, battery type: Lithium'"
      ]
     },
     "execution_count": 28,
     "metadata": {},
     "output_type": "execute_result"
    }
   ],
   "source": [
    "class Car:\n",
    "    \"\"\"A simple attempt to represent a car.\"\"\"\n",
    "    def __init__(self, manufacturer, model, year):\n",
    "        self.manufacturer = manufacturer\n",
    "        self.model = model\n",
    "        self.year = year\n",
    "        self.odometer_reading = 0\n",
    "\n",
    "    def read_odometer(self):\n",
    "        print(f\"This car has {self.odometer_reading} miles on it.\")\n",
    "\n",
    "    def update_odometer(self, mileage):\n",
    "        if mileage >= self.odometer_reading:\n",
    "            self.odometer_reading = mileage\n",
    "        else:\n",
    "            print(\"You can't roll back an odometer!\")\n",
    "\n",
    "    def increment_odometer(self, miles):\n",
    "        self.odometer_reading += miles\n",
    "\n",
    "    def __str__(self):\n",
    "        long_name = f\"{self.year} {self.manufacturer} {self.model}\"\n",
    "        return long_name.title()\n",
    "\n",
    "# We want to inherit now the common values from the parent class Car\n",
    "class ElectricCar(Car):\n",
    "\n",
    "    def __init__(self, manufacturer, model, year, battery_type):\n",
    "        super().__init__(manufacturer, model, year) # create the parent by its data    \n",
    "        self.battery_type = battery_type\n",
    "\n",
    "    def __str__(self):\n",
    "        # return str(super().get_descriptive_name) + \"battery type: \" + self.battery_type\n",
    "        return f\"{str(super().__str__())}, battery type: {self.battery_type}\"\n",
    "\n",
    "tesla = ElectricCar(\"Tesla\", \"S\", 2018, \"Lithium\")\n",
    "# str(tesla.super()) # NOTICE: This does not work\n",
    "str(tesla) # the get_descriptive_name() from Car does not work for printing the data\n"
   ]
  },
  {
   "cell_type": "code",
   "execution_count": 40,
   "id": "12a880f1-eae0-4a54-81e3-8d36676e0e0b",
   "metadata": {},
   "outputs": [],
   "source": [
    "class Car:\n",
    "    \"\"\"A simple attempt to represent a car.\"\"\"\n",
    "    def __init__(self, manufacturer, model, year):\n",
    "        self.manufacturer = manufacturer\n",
    "        self.model = model\n",
    "        self.year = year\n",
    "        self.odometer_reading = 0\n",
    "        self.tank = 0\n",
    "\n",
    "    def read_odometer(self):\n",
    "        print(f\"This car has {self.odometer_reading} miles on it.\")\n",
    "\n",
    "    def update_odometer(self, mileage):\n",
    "        if mileage >= self.odometer_reading:\n",
    "            self.odometer_reading = mileage\n",
    "        else:\n",
    "            print(\"You can't roll back an odometer!\")\n",
    "\n",
    "    def increment_odometer(self, miles):\n",
    "        self.odometer_reading += miles\n",
    "\n",
    "    def fill_gas_tank(self, num_of_liters):\n",
    "        if num_of_liters < 0:\n",
    "            print(\"Invalid num. of liters. Can't fill in the tank.\")\n",
    "        \n",
    "        if num_of_liters == 0:\n",
    "            print(\"No gas added.\")\n",
    "            return\n",
    "        \n",
    "        if num_of_liters + self.tank < 52:\n",
    "            self.tank += num_of_liters\n",
    "            print(f\"Tank filled to {self.tank} l.\")\n",
    "        else:\n",
    "            self.tank = 52\n",
    "            print(\"Full tank filled.\")\n",
    "\n",
    "    def __str__(self):\n",
    "        long_name = f\"{self.year} {self.manufacturer} {self.model}\"\n",
    "        return long_name.title()\n",
    "\n",
    "# Changing the behaviour of the parent's methods\n",
    "class ElectricCar(Car):\n",
    "\n",
    "    def __init__(self, manufacturer, model, year, battery_type):\n",
    "        super().__init__(manufacturer, model, year) # create the parent by its data    \n",
    "        self.battery_type = battery_type\n",
    "\n",
    "    def fill_gas_tank(self, num_of_liters):\n",
    "        print(\"This is electric car, you stupid!\")\n",
    "        return\n",
    "\n",
    "    def __str__(self):\n",
    "        # return str(super().get_descriptive_name) + \"battery type: \" + self.battery_type\n",
    "        return f\"{str(super().__str__())}, battery type: {self.battery_type}\"\n"
   ]
  },
  {
   "cell_type": "code",
   "execution_count": 41,
   "id": "db373be6-77f0-45d9-a495-2f46ce78842a",
   "metadata": {},
   "outputs": [
    {
     "name": "stdout",
     "output_type": "stream",
     "text": [
      "Tank filled to 48 l.\n"
     ]
    }
   ],
   "source": [
    "ford = Car(\"Ford\", \"Focus\", 2003)\n",
    "ford.fill_gas_tank(48)"
   ]
  },
  {
   "cell_type": "code",
   "execution_count": 42,
   "id": "5d4e07d5-b5fc-4b32-88d3-0ede3a631c7e",
   "metadata": {},
   "outputs": [
    {
     "name": "stdout",
     "output_type": "stream",
     "text": [
      "This is electric car, you stupid!\n"
     ]
    }
   ],
   "source": [
    "tesla = ElectricCar(\"Tesla\", \"S\", 2019, \"Lithium\")\n",
    "tesla.fill_gas_tank(48)"
   ]
  },
  {
   "cell_type": "code",
   "execution_count": 66,
   "id": "69a30bc0-25a7-4906-86c2-7dbfcab39492",
   "metadata": {},
   "outputs": [],
   "source": [
    "# What if we want to have more detailed info about the battery?\n",
    "class Battery:\n",
    "    \"\"\"A simple attempt to model a battery for an electric car.\"\"\"\n",
    "    def __init__(self, manufacturer, battery_size=75):\n",
    "        \"\"\"Initialize the battery's attributes.\"\"\"\n",
    "        self.manufacturer = manufacturer\n",
    "        self.battery_size = battery_size\n",
    "    def describe_battery(self):\n",
    "        \"\"\"Print a statement describing the battery size.\"\"\"\n",
    "        print(f\"This car has a {self.battery_size}-kWh {self.manufacturer} battery.\")"
   ]
  },
  {
   "cell_type": "code",
   "execution_count": 95,
   "id": "8041e0e8-334f-44d9-b058-162d329a29e9",
   "metadata": {},
   "outputs": [],
   "source": [
    "class Car:\n",
    "    \"\"\"A simple attempt to represent a car.\"\"\"\n",
    "    def __init__(self, manufacturer, model, year):\n",
    "        self.manufacturer = manufacturer\n",
    "        self.model = model\n",
    "        self.year = year\n",
    "        self.odometer_reading = 0\n",
    "        self.tank = 0\n",
    "\n",
    "    def read_odometer(self):\n",
    "        print(f\"This car has {self.odometer_reading} miles on it.\")\n",
    "\n",
    "    def update_odometer(self, mileage):\n",
    "        if mileage >= self.odometer_reading:\n",
    "            self.odometer_reading = mileage\n",
    "        else:\n",
    "            print(\"You can't roll back an odometer!\")\n",
    "\n",
    "    def increment_odometer(self, miles):\n",
    "        self.odometer_reading += miles\n",
    "\n",
    "    def fill_gas_tank(self, num_of_liters):\n",
    "        if num_of_liters < 0:\n",
    "            print(\"Invalid num. of liters. Can't fill in the tank.\")\n",
    "        \n",
    "        if num_of_liters == 0:\n",
    "            print(\"No gas added.\")\n",
    "            return\n",
    "        \n",
    "        if num_of_liters + self.tank < 52:\n",
    "            self.tank += num_of_liters\n",
    "            print(f\"Tank filled to {self.tank} l.\")\n",
    "        else:\n",
    "            self.tank = 52\n",
    "            print(\"Full tank filled.\")\n",
    "\n",
    "    def __str__(self):\n",
    "        long_name = f\"{self.year} {self.manufacturer} {self.model}\"\n",
    "        return long_name.title()\n",
    "\n",
    "# Changing the behaviour of the parent's methods\n",
    "class ElectricCar(Car):\n",
    "\n",
    "    def __init__(self, manufacturer, model, year, battery_type):\n",
    "        super().__init__(manufacturer, model, year) # create the parent by its data    \n",
    "        self.battery_type = Battery(battery_type)\n",
    "\n",
    "    def fill_gas_tank(self, num_of_liters):\n",
    "        print(\"This is electric car, you stupid!\")\n",
    "        return\n",
    "\n",
    "    def __str__(self):\n",
    "        # return str(super().get_descriptive_name) + \"battery type: \" + self.battery_type\n",
    "        return f\"{str(super().__str__())}, battery info: {self.battery_type.describe_battery()}\"\n"
   ]
  },
  {
   "cell_type": "code",
   "execution_count": 71,
   "id": "1fb12758-1347-4b4e-abf4-b17f2bbcfc87",
   "metadata": {},
   "outputs": [
    {
     "name": "stdout",
     "output_type": "stream",
     "text": [
      "This car has a 75-kWh Lithium battery.\n"
     ]
    },
    {
     "data": {
      "text/plain": [
       "'2019 Tesla S'"
      ]
     },
     "execution_count": 71,
     "metadata": {},
     "output_type": "execute_result"
    }
   ],
   "source": [
    "tesla = ElectricCar(\"Tesla\", \"S\", 2019, \"Lithium\")\n",
    "str(tesla) # "
   ]
  },
  {
   "cell_type": "code",
   "execution_count": 96,
   "id": "5ef40274-727e-4b05-88a8-2ce14c46ed0e",
   "metadata": {},
   "outputs": [],
   "source": [
    "# Better way\n",
    "# What if we want to have more detailed info about the battery?\n",
    "class Battery:\n",
    "    \"\"\"A simple attempt to model a battery for an electric car.\"\"\"\n",
    "    def __init__(self, manufacturer, battery_size=75):\n",
    "        \"\"\"Initialize the battery's attributes.\"\"\"\n",
    "        self.manufacturer = manufacturer\n",
    "        self.battery_size = battery_size\n",
    "    def describe_battery(self):\n",
    "        \"\"\"Print a statement describing the battery size.\"\"\"\n",
    "        return f\"This car has a {self.battery_size}-kWh {self.manufacturer} battery.\"\n"
   ]
  },
  {
   "cell_type": "code",
   "execution_count": null,
   "id": "df08debe-3bb0-4ac1-8e52-1b8e93c9402f",
   "metadata": {},
   "outputs": [],
   "source": []
  },
  {
   "cell_type": "code",
   "execution_count": 97,
   "id": "ab84d730-2b8e-42db-8d68-a6ea50af63f5",
   "metadata": {},
   "outputs": [
    {
     "data": {
      "text/plain": [
       "'2019 Tesla S, battery info: This car has a 75-kWh Lithium battery.'"
      ]
     },
     "execution_count": 97,
     "metadata": {},
     "output_type": "execute_result"
    }
   ],
   "source": [
    "tesla = ElectricCar(\"Tesla\", \"S\", 2019, \"Lithium\")\n",
    "str(tesla) # "
   ]
  },
  {
   "cell_type": "code",
   "execution_count": null,
   "id": "2337cf4e-726b-4085-b992-e621ea80bcde",
   "metadata": {},
   "outputs": [],
   "source": []
  }
 ],
 "metadata": {
  "kernelspec": {
   "display_name": "Python 3 (ipykernel)",
   "language": "python",
   "name": "python3"
  },
  "language_info": {
   "codemirror_mode": {
    "name": "ipython",
    "version": 3
   },
   "file_extension": ".py",
   "mimetype": "text/x-python",
   "name": "python",
   "nbconvert_exporter": "python",
   "pygments_lexer": "ipython3",
   "version": "3.10.12"
  }
 },
 "nbformat": 4,
 "nbformat_minor": 5
}
